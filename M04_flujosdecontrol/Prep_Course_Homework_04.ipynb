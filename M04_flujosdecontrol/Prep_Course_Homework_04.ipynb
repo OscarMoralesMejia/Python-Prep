{
 "cells": [
  {
   "attachments": {},
   "cell_type": "markdown",
   "metadata": {},
   "source": [
    "## Flujos de Control"
   ]
  },
  {
   "attachments": {},
   "cell_type": "markdown",
   "metadata": {},
   "source": [
    "1) Crear una variable que contenga un elemento del conjunto de números enteros y luego imprimir por pantalla si es mayor o menor a cero"
   ]
  },
  {
   "cell_type": "code",
   "execution_count": 1,
   "metadata": {},
   "outputs": [
    {
     "name": "stdout",
     "output_type": "stream",
     "text": [
      "el numero: 21 es mayor a cero\n"
     ]
    }
   ],
   "source": [
    "a=21\n",
    "if a<0:\n",
    "    print(f'el numero: {a} es menor a cero')\n",
    "elif a>0:\n",
    "    print(f'el numero: {a} es mayor a cero')"
   ]
  },
  {
   "attachments": {},
   "cell_type": "markdown",
   "metadata": {},
   "source": [
    "2) Crear dos variables y un condicional que informe si son del mismo tipo de dato"
   ]
  },
  {
   "cell_type": "code",
   "execution_count": 4,
   "metadata": {},
   "outputs": [
    {
     "name": "stdout",
     "output_type": "stream",
     "text": [
      "las variables son del mismo tipo\n"
     ]
    }
   ],
   "source": [
    "a=2\n",
    "b=7\n",
    "if type(a)==type(b):\n",
    "    print(\"las variables son del mismo tipo\")\n",
    "elif type(a)!=type(b):\n",
    "    print(\"las variables son de diferente tipo\")"
   ]
  },
  {
   "attachments": {},
   "cell_type": "markdown",
   "metadata": {},
   "source": [
    "3) Para los valores enteros del 1 al 20, imprimir por pantalla si es par o impar"
   ]
  },
  {
   "cell_type": "code",
   "execution_count": 7,
   "metadata": {},
   "outputs": [
    {
     "name": "stdout",
     "output_type": "stream",
     "text": [
      "El número 1 es impar\n",
      "El número 2 es par\n",
      "El número 3 es impar\n",
      "El número 4 es par\n",
      "El número 5 es impar\n",
      "El número 6 es par\n",
      "El número 7 es impar\n",
      "El número 8 es par\n",
      "El número 9 es impar\n",
      "El número 10 es par\n",
      "El número 11 es impar\n",
      "El número 12 es par\n",
      "El número 13 es impar\n",
      "El número 14 es par\n",
      "El número 15 es impar\n",
      "El número 16 es par\n",
      "El número 17 es impar\n",
      "El número 18 es par\n",
      "El número 19 es impar\n",
      "El número 20 es par\n"
     ]
    }
   ],
   "source": [
    "n=1\n",
    "for i in range(1,21):\n",
    "    if i%2==0:\n",
    "        print(f\"El número {i} es par\")\n",
    "    else :\n",
    "        print(f\"El número {i} es impar\")"
   ]
  },
  {
   "attachments": {},
   "cell_type": "markdown",
   "metadata": {},
   "source": [
    "4) En un ciclo for mostrar para los valores entre 0 y 5 el resultado de elevarlo a la potencia igual a 3"
   ]
  },
  {
   "cell_type": "code",
   "execution_count": 8,
   "metadata": {},
   "outputs": [
    {
     "name": "stdout",
     "output_type": "stream",
     "text": [
      "El valor de 0 elevado a la potencia 3 es:0\n",
      "El valor de 1 elevado a la potencia 3 es:1\n",
      "El valor de 2 elevado a la potencia 3 es:8\n",
      "El valor de 3 elevado a la potencia 3 es:27\n",
      "El valor de 4 elevado a la potencia 3 es:64\n",
      "El valor de 5 elevado a la potencia 3 es:125\n"
     ]
    }
   ],
   "source": [
    "for i in range(0,6):\n",
    "    x=i**3\n",
    "    print(f\"El valor de {i} elevado a la potencia 3 es:{x}\")"
   ]
  },
  {
   "attachments": {},
   "cell_type": "markdown",
   "metadata": {},
   "source": [
    "5) Crear una variable que contenga un número entero y realizar un ciclo for la misma cantidad de ciclos"
   ]
  },
  {
   "cell_type": "code",
   "execution_count": 12,
   "metadata": {},
   "outputs": [
    {
     "name": "stdout",
     "output_type": "stream",
     "text": [
      "0\n",
      "1\n",
      "2\n",
      "3\n",
      "4\n",
      "5\n",
      "6\n"
     ]
    }
   ],
   "source": [
    "x=7\n",
    "for i in range(x):\n",
    "    print(i)"
   ]
  },
  {
   "attachments": {},
   "cell_type": "markdown",
   "metadata": {},
   "source": [
    "6) Utilizar un ciclo while para realizar el factorial de un número guardado en una variable, sólo si la variable contiene un número entero mayor a 0"
   ]
  },
  {
   "cell_type": "code",
   "execution_count": 14,
   "metadata": {},
   "outputs": [
    {
     "name": "stdout",
     "output_type": "stream",
     "text": [
      "120\n"
     ]
    }
   ],
   "source": [
    "numero=5\n",
    "f=1\n",
    "if(type(numero)==int):\n",
    "    if numero>0:\n",
    "        while numero>0:\n",
    "            f=numero*f\n",
    "            numero-=1\n",
    "        print(f)\n",
    "    else:\n",
    "        print(\"El número proporcionado no es mayor a cero\")\n",
    "else:\n",
    "    print(f\"{numero} no es de tipo entero\")\n"
   ]
  },
  {
   "attachments": {},
   "cell_type": "markdown",
   "metadata": {},
   "source": [
    "7) Crear un ciclo for dentro de un ciclo while"
   ]
  },
  {
   "cell_type": "code",
   "execution_count": 22,
   "metadata": {},
   "outputs": [
    {
     "name": "stdout",
     "output_type": "stream",
     "text": [
      "ciclo while 4\n",
      "ciclo for 0\n",
      "ciclo for 1\n",
      "ciclo while 3\n",
      "ciclo for 0\n",
      "ciclo for 1\n",
      "ciclo while 2\n",
      "ciclo for 0\n",
      "ciclo for 1\n",
      "ciclo while 1\n",
      "ciclo for 0\n",
      "ciclo for 1\n",
      "finalizo ciclo while\n"
     ]
    }
   ],
   "source": [
    "x=4\n",
    "while x>0 :\n",
    "    print(\"ciclo while\",str(x))\n",
    "    i=1\n",
    "    for i in range(2):\n",
    "        print(f\"ciclo for {i}\")\n",
    "    x-=1\n",
    "print(\"finalizo ciclo while\")"
   ]
  },
  {
   "attachments": {},
   "cell_type": "markdown",
   "metadata": {},
   "source": [
    "8) Crear un ciclo while dentro de un ciclo for"
   ]
  },
  {
   "cell_type": "code",
   "execution_count": 25,
   "metadata": {},
   "outputs": [
    {
     "name": "stdout",
     "output_type": "stream",
     "text": [
      "ciclo while 3\n",
      "ciclo while 2\n",
      "ciclo while 1\n",
      "ciclo for 0\n",
      "ciclo for 1\n",
      "ciclo for 2\n"
     ]
    }
   ],
   "source": [
    "x=3\n",
    "for i in range(0,x):\n",
    "    while x>0:\n",
    "        print(f\"ciclo while {x}\")\n",
    "        x-=1\n",
    "    print(f\"ciclo for {i}\")\n"
   ]
  },
  {
   "attachments": {},
   "cell_type": "markdown",
   "metadata": {},
   "source": [
    "9) Imprimir los números primos existentes entre 0 y 30"
   ]
  },
  {
   "cell_type": "code",
   "execution_count": 47,
   "metadata": {},
   "outputs": [
    {
     "name": "stdout",
     "output_type": "stream",
     "text": [
      "numero primo:2\n",
      "numero primo:3\n",
      "numero primo:5\n",
      "numero primo:7\n",
      "numero primo:11\n",
      "numero primo:13\n",
      "numero primo:17\n",
      "numero primo:19\n",
      "numero primo:23\n",
      "numero primo:29\n"
     ]
    }
   ],
   "source": [
    "\n",
    "limite=30\n",
    "contador=1\n",
    "c_primo=0\n",
    "while contador<limite:\n",
    "    for i in range(2,contador+1):\n",
    "        if contador!=0:\n",
    "            div=contador%i\n",
    "            if(div==0):\n",
    "                c_primo+=1\n",
    "    if c_primo==1:\n",
    "        print(f\"numero primo:{contador}\") \n",
    "    contador+=1\n",
    "    c_primo=0\n",
    "    #limite-=1\n",
    "\n",
    "\n"
   ]
  },
  {
   "attachments": {},
   "cell_type": "markdown",
   "metadata": {},
   "source": [
    "10) ¿Se puede mejorar el proceso del punto 9? Utilizar las sentencias break y/ó continue para tal fin"
   ]
  },
  {
   "cell_type": "code",
   "execution_count": 49,
   "metadata": {},
   "outputs": [
    {
     "name": "stdout",
     "output_type": "stream",
     "text": [
      "numero primo:2\n",
      "numero primo:3\n",
      "numero primo:5\n",
      "numero primo:7\n",
      "numero primo:11\n",
      "numero primo:13\n",
      "numero primo:17\n",
      "numero primo:19\n",
      "numero primo:23\n",
      "numero primo:29\n"
     ]
    }
   ],
   "source": [
    "limite=30\n",
    "contador=1\n",
    "c_primo=0\n",
    "while contador<limite:\n",
    "    for i in range(2,contador+1):\n",
    "        if contador!=0:\n",
    "            div=contador%i\n",
    "            if(div==0):\n",
    "                c_primo+=1\n",
    "                continue\n",
    "    if c_primo==1:\n",
    "        print(f\"numero primo:{contador}\") \n",
    "    contador+=1\n",
    "    c_primo=0\n",
    "    #limite-=1\n"
   ]
  },
  {
   "attachments": {},
   "cell_type": "markdown",
   "metadata": {},
   "source": [
    "11) En los puntos 9 y 10, se diseño un código que encuentra números primos y además se lo optimizó. ¿Es posible saber en qué medida se optimizó?"
   ]
  },
  {
   "cell_type": "code",
   "execution_count": null,
   "metadata": {},
   "outputs": [],
   "source": [
    "\"\"\"\n",
    "En el número de repeticiones y por ende repercute en el tiempo que tarda en total de ejecutarse el programa\n",
    "\"\"\""
   ]
  },
  {
   "attachments": {},
   "cell_type": "markdown",
   "metadata": {},
   "source": [
    "12) Aplicando continue, armar un ciclo while que solo imprima los valores divisibles por 12, dentro del rango de números de 100 a 300"
   ]
  },
  {
   "cell_type": "code",
   "execution_count": 2,
   "metadata": {},
   "outputs": [
    {
     "name": "stdout",
     "output_type": "stream",
     "text": [
      "El numero 108 es divisible por 12\n",
      "El numero 120 es divisible por 12\n",
      "El numero 132 es divisible por 12\n",
      "El numero 144 es divisible por 12\n",
      "El numero 156 es divisible por 12\n",
      "El numero 168 es divisible por 12\n",
      "El numero 180 es divisible por 12\n",
      "El numero 192 es divisible por 12\n",
      "El numero 204 es divisible por 12\n",
      "El numero 216 es divisible por 12\n",
      "El numero 228 es divisible por 12\n",
      "El numero 240 es divisible por 12\n",
      "El numero 252 es divisible por 12\n",
      "El numero 264 es divisible por 12\n",
      "El numero 276 es divisible por 12\n",
      "El numero 288 es divisible por 12\n",
      "El numero 300 es divisible por 12\n"
     ]
    }
   ],
   "source": [
    "min=100\n",
    "max=300\n",
    "while min<max:\n",
    "    min+=1\n",
    "    result=min%12\n",
    "    if result!=0:\n",
    "        continue\n",
    "    print(f\"El numero {min} es divisible por 12\")\n",
    "        \n",
    "    "
   ]
  },
  {
   "attachments": {},
   "cell_type": "markdown",
   "metadata": {},
   "source": [
    "13) Utilizar la función **input()** que permite hacer ingresos por teclado, para encontrar números primos y dar la opción al usario de buscar el siguiente"
   ]
  },
  {
   "cell_type": "code",
   "execution_count": 11,
   "metadata": {},
   "outputs": [
    {
     "name": "stdout",
     "output_type": "stream",
     "text": [
      "numero primo:10\n",
      "numero primo:11\n",
      "numero primo:12\n",
      "numero primo:13\n",
      "numero primo:14\n",
      "numero primo:15\n",
      "numero primo:16\n",
      "numero primo:17\n",
      "numero primo:18\n",
      "numero primo:19\n"
     ]
    }
   ],
   "source": [
    "contador=int(input(\"introduce un número inicial para saber si es número primo\"))\n",
    "\n",
    "limite=30\n",
    "#contador=1\n",
    "c_primo=0\n",
    "while contador<limite:\n",
    "    for i in range(2,limite+1):\n",
    "        if contador!=0:\n",
    "            div=contador%i\n",
    "            if(div==0):\n",
    "                c_primo+=1\n",
    "                break\n",
    "                #respuesta=input(\"Deseas continuar(si/no)\")\n",
    "    if c_primo==1 :\n",
    "        respuesta=input(\"Deseas conyinuar (si/no)\")\n",
    "        if respuesta==\"si\":\n",
    "            print(f\"numero primo:{contador}\") \n",
    "            contador+=1\n",
    "            c_primo=0\n",
    "        else: \n",
    "            contador+=1\n",
    "            break\n",
    "            "
   ]
  },
  {
   "attachments": {},
   "cell_type": "markdown",
   "metadata": {},
   "source": [
    "14) Crear un ciclo while que encuentre dentro del rango de 100 a 300 el primer número divisible por 3 y además múltiplo de 6"
   ]
  },
  {
   "cell_type": "code",
   "execution_count": 14,
   "metadata": {},
   "outputs": [
    {
     "name": "stdout",
     "output_type": "stream",
     "text": [
      "El primer numero divisible por 3 y por 6 es: 102\n"
     ]
    }
   ],
   "source": [
    "min=100\n",
    "max=300\n",
    "while min<max:\n",
    "    div=min%3 \n",
    "    multiplo=min%6\n",
    "    if div==0 and multiplo==0:\n",
    "        print(f\"El primer numero divisible por 3 y por 6 es: {min}\")\n",
    "        break\n",
    "    else:\n",
    "        min+=1\n",
    "        continue\n",
    "    "
   ]
  }
 ],
 "metadata": {
  "interpreter": {
   "hash": "c85384e4cb51c8b72350f3a8712cc8351fdc3955e32a27f9b60c6242ab125f01"
  },
  "kernelspec": {
   "display_name": "Python 3 (ipykernel)",
   "language": "python",
   "name": "python3"
  },
  "language_info": {
   "codemirror_mode": {
    "name": "ipython",
    "version": 3
   },
   "file_extension": ".py",
   "mimetype": "text/x-python",
   "name": "python",
   "nbconvert_exporter": "python",
   "pygments_lexer": "ipython3",
   "version": "3.10.4"
  }
 },
 "nbformat": 4,
 "nbformat_minor": 4
}
