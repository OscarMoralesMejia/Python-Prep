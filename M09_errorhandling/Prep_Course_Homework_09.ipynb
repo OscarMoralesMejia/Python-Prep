{
 "cells": [
  {
   "attachments": {},
   "cell_type": "markdown",
   "metadata": {},
   "source": [
    "## Manejo de errores"
   ]
  },
  {
   "attachments": {},
   "cell_type": "markdown",
   "metadata": {},
   "source": [
    "1) Con la clase creada en el módulo 7, tener en cuenta diferentes casos en que el código pudiera arrojar error. Por ejemplo, en la creación del objeto recibimos una lista de números enteros pero ¿qué pasa si se envía otro tipo de dato?"
   ]
  },
  {
   "cell_type": "code",
   "execution_count": 14,
   "metadata": {},
   "outputs": [],
   "source": [
    "import sys\n",
    "sys.path.append(r'/C:/2022/Ciencia_de_datos/Henry/Python-Prep/M08_clasesyOOP/Helper.py')"
   ]
  },
  {
   "cell_type": "code",
   "execution_count": 95,
   "metadata": {},
   "outputs": [],
   "source": [
    "import herramientas as h\n",
    "h1 = h.Herramientas([1,2,3,4])\n"
   ]
  },
  {
   "cell_type": "code",
   "execution_count": 96,
   "metadata": {},
   "outputs": [],
   "source": [
    "h1 = h.Herramientas([2,3,5,6,2])"
   ]
  },
  {
   "attachments": {},
   "cell_type": "markdown",
   "metadata": {},
   "source": [
    "2) En la función que hace la conversión de grados, validar que los parámetros enviados sean los esperados, de no serlo, informar cuáles son los valores esperados."
   ]
  },
  {
   "cell_type": "code",
   "execution_count": 136,
   "metadata": {},
   "outputs": [
    {
     "name": "stdout",
     "output_type": "stream",
     "text": [
      "Los parametros esperados son ['celsius', 'farenheit', 'kelvin']\n"
     ]
    },
    {
     "data": {
      "text/plain": [
       "[]"
      ]
     },
     "execution_count": 136,
     "metadata": {},
     "output_type": "execute_result"
    }
   ],
   "source": [
    "\n",
    "import Helper as h\n",
    "h1 = h.Funciones([2,3,5,6,2])\n",
    "h1.conversion_grados(1,2)"
   ]
  },
  {
   "attachments": {},
   "cell_type": "markdown",
   "metadata": {},
   "source": [
    "3) Importar el modulo \"unittest\" y crear los siguientes casos de pruebas sobre la clase utilizada en el punto 2<br>\n",
    "Creacion del objeto incorrecta<br>\n",
    "Creacion correcta del objeto<br>\n",
    "Metodo valor_modal()<br>\n",
    "\n",
    "Se puede usar \"raise ValueError()\" en la creación de la clase para verificar el error. Investigar sobre esta funcionalidad."
   ]
  },
  {
   "cell_type": "code",
   "execution_count": 103,
   "metadata": {},
   "outputs": [],
   "source": [
    "import unittest\n",
    "\n",
    "class PruebasUnitarias(unittest.TestCase):\n",
    "    \n",
    "    def test_crearObjetoincorrecto(self):\n",
    "        param = \"Hola\"\n",
    "        self.assertRaises(ValueError,h.Funciones,param)\n",
    "        \n",
    "    def test_crearObjeto(self):\n",
    "        param=[1,2,3,4,5,6,7,9]\n",
    "        h1=h.Funciones(param)\n",
    "        self.assertEqual(h1.lista,param)\n",
    "\n",
    "    def test_valor_modal(self):\n",
    "        lis = [1,2,1,3]\n",
    "        h1 = h.Funciones(lis)\n",
    "        resultado = h1.masrepite()\n",
    "        resultado_esperado = [1, 2]\n",
    "        self.assertEqual(resultado_esperado, resultado)"
   ]
  },
  {
   "cell_type": "code",
   "execution_count": 105,
   "metadata": {},
   "outputs": [
    {
     "name": "stderr",
     "output_type": "stream",
     "text": [
      "test_crearObjeto (__main__.PruebasUnitarias) ... ok\n",
      "test_crearObjetoincorrecto (__main__.PruebasUnitarias) ... FAIL\n",
      "test_valor_modal (__main__.PruebasUnitarias) ... ok\n",
      "\n",
      "======================================================================\n",
      "FAIL: test_crearObjetoincorrecto (__main__.PruebasUnitarias)\n",
      "----------------------------------------------------------------------\n",
      "Traceback (most recent call last):\n",
      "  File \"C:\\Users\\oscar\\AppData\\Local\\Temp\\ipykernel_206172\\543192820.py\", line 7, in test_crearObjetoincorrecto\n",
      "    self.assertRaises(ValueError,h.Funciones,param)\n",
      "AssertionError: ValueError not raised by Funciones\n",
      "\n",
      "----------------------------------------------------------------------\n",
      "Ran 3 tests in 0.007s\n",
      "\n",
      "FAILED (failures=1)\n"
     ]
    },
    {
     "name": "stdout",
     "output_type": "stream",
     "text": [
      "2\n",
      "1\n"
     ]
    },
    {
     "data": {
      "text/plain": [
       "<unittest.main.TestProgram at 0x158c2acee60>"
      ]
     },
     "execution_count": 105,
     "metadata": {},
     "output_type": "execute_result"
    }
   ],
   "source": [
    "unittest.main(argv=[''],verbosity=2,exit=False)"
   ]
  },
  {
   "attachments": {},
   "cell_type": "markdown",
   "metadata": {},
   "source": [
    "4) Probar una creación incorrecta y visualizar la salida del \"raise\""
   ]
  },
  {
   "cell_type": "code",
   "execution_count": 129,
   "metadata": {},
   "outputs": [],
   "source": [
    "import Helper as h\n",
    "\n",
    "h2=h.Funciones('objeto')\n",
    "\n",
    "\n"
   ]
  },
  {
   "attachments": {},
   "cell_type": "markdown",
   "metadata": {},
   "source": [
    "6) Agregar casos de pruebas para el método verifica_primos() realizando el cambio en la clase, para que devuelva una lista de True o False en función de que el elemento en la posisicón sea o no primo"
   ]
  },
  {
   "cell_type": "code",
   "execution_count": 130,
   "metadata": {},
   "outputs": [],
   "source": [
    "import unittest\n",
    "\n",
    "class pruebas_verifica_primos(unittest.TestCase):\n",
    "    \n",
    "    def test_detecta_primos(self):\n",
    "        lis = [2,3,8,10,13]\n",
    "        h1 = h.Funciones(lis)\n",
    "        primos = h1.detectaprimos()\n",
    "        primos_esperado = [True, True, False, False, True]\n",
    "        self.assertEqual(primos, primos_esperado)\n",
    "    "
   ]
  },
  {
   "cell_type": "code",
   "execution_count": 133,
   "metadata": {},
   "outputs": [
    {
     "name": "stderr",
     "output_type": "stream",
     "text": [
      "test_crearObjeto (__main__.PruebasUnitarias) ... ok\n",
      "test_crearObjetoincorrecto (__main__.PruebasUnitarias) ... FAIL\n",
      "test_valor_modal (__main__.PruebasUnitarias) ... ok\n",
      "test_detecta_primos (__main__.pruebas_verifica_primos) ... FAIL\n",
      "\n",
      "======================================================================\n",
      "FAIL: test_crearObjetoincorrecto (__main__.PruebasUnitarias)\n",
      "----------------------------------------------------------------------\n",
      "Traceback (most recent call last):\n",
      "  File \"C:\\Users\\oscar\\AppData\\Local\\Temp\\ipykernel_206172\\543192820.py\", line 7, in test_crearObjetoincorrecto\n",
      "    self.assertRaises(ValueError,h.Funciones,param)\n",
      "AssertionError: ValueError not raised by Funciones\n",
      "\n",
      "======================================================================\n",
      "FAIL: test_detecta_primos (__main__.pruebas_verifica_primos)\n",
      "----------------------------------------------------------------------\n",
      "Traceback (most recent call last):\n",
      "  File \"C:\\Users\\oscar\\AppData\\Local\\Temp\\ipykernel_206172\\4055497777.py\", line 10, in test_detecta_primos\n",
      "    self.assertEqual(primos, primos_esperado)\n",
      "AssertionError: None != [True, True, False, False, True]\n",
      "\n",
      "----------------------------------------------------------------------\n",
      "Ran 4 tests in 0.012s\n",
      "\n",
      "FAILED (failures=2)\n"
     ]
    },
    {
     "name": "stdout",
     "output_type": "stream",
     "text": [
      "2\n",
      "1\n",
      "El elemento 2 SI es un numero primo\n",
      "El elemento 3 SI es un numero primo\n",
      "El elemento 8 NO es un numero primo\n",
      "El elemento 10 NO es un numero primo\n",
      "El elemento 13 SI es un numero primo\n"
     ]
    },
    {
     "data": {
      "text/plain": [
       "<unittest.main.TestProgram at 0x158c2ace290>"
      ]
     },
     "execution_count": 133,
     "metadata": {},
     "output_type": "execute_result"
    }
   ],
   "source": [
    "#importlib.reload(h)\n",
    "unittest.main(argv=[''], verbosity=2, exit=False)"
   ]
  },
  {
   "attachments": {},
   "cell_type": "markdown",
   "metadata": {},
   "source": [
    "7) Agregar casos de pruebas para el método conversion_grados()"
   ]
  },
  {
   "cell_type": "code",
   "execution_count": 134,
   "metadata": {},
   "outputs": [],
   "source": [
    "class ProbandoMiClase3(unittest.TestCase):\n",
    "\n",
    "    def test_verifica_conversion1(self):\n",
    "        lis = [2,3,8,10,13]\n",
    "        h1 = h.Funciones(lis)\n",
    "        grados = h1.conversion_grados('celsius','farenheit')\n",
    "        grados_esperado = [35.6, 37.4, 46.4, 50.0, 55.4]\n",
    "        self.assertEqual(grados, grados_esperado)"
   ]
  },
  {
   "attachments": {},
   "cell_type": "markdown",
   "metadata": {},
   "source": [
    "8) Agregar casos de pruebas para el método factorial()"
   ]
  },
  {
   "cell_type": "code",
   "execution_count": 149,
   "metadata": {},
   "outputs": [],
   "source": [
    "import Helper as h\n",
    "#h1 = h.Funciones([2,3,5,6,2])"
   ]
  },
  {
   "cell_type": "code",
   "execution_count": 150,
   "metadata": {},
   "outputs": [],
   "source": [
    "class ProbandoMiClase4(unittest.TestCase):\n",
    "\n",
    "    def test_verifica_factorial(self):\n",
    "        lis = [2,3,8,10,13]\n",
    "        h1 = h.Funciones(lis)\n",
    "        factorial = h1.factorial()\n",
    "        factorial_esperado = [2, 6, 40320, 3628800, 6227020800]\n",
    "        self.assertEqual(factorial, factorial_esperado)"
   ]
  },
  {
   "cell_type": "code",
   "execution_count": 151,
   "metadata": {},
   "outputs": [
    {
     "name": "stderr",
     "output_type": "stream",
     "text": [
      "test_verifica_conversion1 (__main__.ProbandoMiClase3) ... FAIL\n",
      "test_verifica_factorial (__main__.ProbandoMiClase4) ... FAIL\n",
      "test_crearObjeto (__main__.PruebasUnitarias) ... ok\n",
      "test_crearObjetoincorrecto (__main__.PruebasUnitarias) ... FAIL\n",
      "test_valor_modal (__main__.PruebasUnitarias) ... ok\n",
      "test_detecta_primos (__main__.pruebas_verifica_primos) ... "
     ]
    },
    {
     "name": "stderr",
     "output_type": "stream",
     "text": [
      "FAIL\n",
      "\n",
      "======================================================================\n",
      "FAIL: test_verifica_conversion1 (__main__.ProbandoMiClase3)\n",
      "----------------------------------------------------------------------\n",
      "Traceback (most recent call last):\n",
      "  File \"C:\\Users\\oscar\\AppData\\Local\\Temp\\ipykernel_206172\\1799656087.py\", line 8, in test_verifica_conversion1\n",
      "    self.assertEqual(grados, grados_esperado)\n",
      "AssertionError: Lists differ: [35.6, 37.4, 46.4, 50.0, 55.400000000000006] != [35.6, 37.4, 46.4, 50.0, 55.4]\n",
      "\n",
      "First differing element 4:\n",
      "55.400000000000006\n",
      "55.4\n",
      "\n",
      "- [35.6, 37.4, 46.4, 50.0, 55.400000000000006]\n",
      "?                              --------------\n",
      "\n",
      "+ [35.6, 37.4, 46.4, 50.0, 55.4]\n",
      "\n",
      "======================================================================\n",
      "FAIL: test_verifica_factorial (__main__.ProbandoMiClase4)\n",
      "----------------------------------------------------------------------\n",
      "Traceback (most recent call last):\n",
      "  File \"C:\\Users\\oscar\\AppData\\Local\\Temp\\ipykernel_206172\\863116571.py\", line 8, in test_verifica_factorial\n",
      "    self.assertEqual(factorial, factorial_esperado)\n",
      "AssertionError: None != [2, 6, 40320, 3628800, 6227020800]\n",
      "\n",
      "======================================================================\n",
      "FAIL: test_crearObjetoincorrecto (__main__.PruebasUnitarias)\n",
      "----------------------------------------------------------------------\n",
      "Traceback (most recent call last):\n",
      "  File \"C:\\Users\\oscar\\AppData\\Local\\Temp\\ipykernel_206172\\543192820.py\", line 7, in test_crearObjetoincorrecto\n",
      "    self.assertRaises(ValueError,h.Funciones,param)\n",
      "AssertionError: ValueError not raised by Funciones\n",
      "\n",
      "======================================================================\n",
      "FAIL: test_detecta_primos (__main__.pruebas_verifica_primos)\n",
      "----------------------------------------------------------------------\n",
      "Traceback (most recent call last):\n",
      "  File \"C:\\Users\\oscar\\AppData\\Local\\Temp\\ipykernel_206172\\4055497777.py\", line 10, in test_detecta_primos\n",
      "    self.assertEqual(primos, primos_esperado)\n",
      "AssertionError: None != [True, True, False, False, True]\n",
      "\n",
      "----------------------------------------------------------------------\n",
      "Ran 6 tests in 0.012s\n",
      "\n",
      "FAILED (failures=4)\n"
     ]
    },
    {
     "name": "stdout",
     "output_type": "stream",
     "text": [
      "2  grados seran convertidos de:  celsius a  35.6 farenheit\n",
      "3  grados seran convertidos de:  celsius a  37.4 farenheit\n",
      "8  grados seran convertidos de:  celsius a  46.4 farenheit\n",
      "10  grados seran convertidos de:  celsius a  50.0 farenheit\n",
      "13  grados seran convertidos de:  celsius a  55.400000000000006 farenheit\n",
      "El factorial de  2 es 2\n",
      "El factorial de  3 es 6\n",
      "El factorial de  8 es 40320\n",
      "El factorial de  10 es 3628800\n",
      "El factorial de  13 es 6227020800\n",
      "2\n",
      "1\n",
      "El elemento 2 SI es un numero primo\n",
      "El elemento 3 SI es un numero primo\n",
      "El elemento 8 NO es un numero primo\n",
      "El elemento 10 NO es un numero primo\n",
      "El elemento 13 SI es un numero primo\n"
     ]
    },
    {
     "data": {
      "text/plain": [
       "<unittest.main.TestProgram at 0x158c2ad16c0>"
      ]
     },
     "execution_count": 151,
     "metadata": {},
     "output_type": "execute_result"
    }
   ],
   "source": [
    "unittest.main(argv=[''], verbosity=2, exit=False)"
   ]
  }
 ],
 "metadata": {
  "interpreter": {
   "hash": "c85384e4cb51c8b72350f3a8712cc8351fdc3955e32a27f9b60c6242ab125f01"
  },
  "kernelspec": {
   "display_name": "Python 3 (ipykernel)",
   "language": "python",
   "name": "python3"
  },
  "language_info": {
   "codemirror_mode": {
    "name": "ipython",
    "version": 3
   },
   "file_extension": ".py",
   "mimetype": "text/x-python",
   "name": "python",
   "nbconvert_exporter": "python",
   "pygments_lexer": "ipython3",
   "version": "3.10.4"
  }
 },
 "nbformat": 4,
 "nbformat_minor": 4
}
