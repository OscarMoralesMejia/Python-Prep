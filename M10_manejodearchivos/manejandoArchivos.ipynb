{
 "cells": [
  {
   "cell_type": "code",
   "execution_count": 1,
   "metadata": {},
   "outputs": [],
   "source": [
    "import os\n",
    "\n",
    "\n",
    "ingredientes = [\"Cebolla\",\"Tomate\", \"Aceite\",\"Ajos\"]"
   ]
  },
  {
   "cell_type": "code",
   "execution_count": 4,
   "metadata": {},
   "outputs": [],
   "source": [
    "archivo=open('datosejemplo.txt','w')\n",
    "\n",
    "for elemento in ingredientes:\n",
    "    archivo.write(elemento+\"\\n\")\n",
    "\n",
    "archivo.close()"
   ]
  },
  {
   "cell_type": "code",
   "execution_count": 5,
   "metadata": {},
   "outputs": [
    {
     "name": "stdout",
     "output_type": "stream",
     "text": [
      "Cebolla\n",
      "\n",
      "Tomate\n",
      "\n",
      "Aceite\n",
      "\n",
      "Ajos\n",
      "\n"
     ]
    }
   ],
   "source": [
    "import os\n",
    "\n",
    "\n",
    "archivo = open('datosejemplo.txt','r')\n",
    "\n",
    "\n",
    "for linea in archivo:\n",
    "    print(linea)\n",
    "\n",
    "\n",
    "archivo.close()"
   ]
  }
 ],
 "metadata": {
  "kernelspec": {
   "display_name": "Python 3",
   "language": "python",
   "name": "python3"
  },
  "language_info": {
   "codemirror_mode": {
    "name": "ipython",
    "version": 3
   },
   "file_extension": ".py",
   "mimetype": "text/x-python",
   "name": "python",
   "nbconvert_exporter": "python",
   "pygments_lexer": "ipython3",
   "version": "3.10.4"
  }
 },
 "nbformat": 4,
 "nbformat_minor": 2
}
