{
 "cells": [
  {
   "attachments": {},
   "cell_type": "markdown",
   "metadata": {},
   "source": [
    "## Funciones"
   ]
  },
  {
   "attachments": {},
   "cell_type": "markdown",
   "metadata": {},
   "source": [
    "1) Crear una función que reciba un número como parámetro y devuelva True si es primo y False si no lo es"
   ]
  },
  {
   "cell_type": "code",
   "execution_count": 37,
   "metadata": {},
   "outputs": [],
   "source": [
    "def mifuncion(num):\n",
    "    i=2\n",
    "    flag=True\n",
    "    while i<num:\n",
    "        if num%i==0:  \n",
    "            flag=False\n",
    "            break\n",
    "        i+=1\n",
    "    return flag\n",
    "\n"
   ]
  },
  {
   "cell_type": "code",
   "execution_count": 31,
   "metadata": {},
   "outputs": [
    {
     "data": {
      "text/plain": [
       "True"
      ]
     },
     "execution_count": 31,
     "metadata": {},
     "output_type": "execute_result"
    }
   ],
   "source": [
    "mifuncion(17)"
   ]
  },
  {
   "attachments": {},
   "cell_type": "markdown",
   "metadata": {},
   "source": [
    "2) Utilizando la función del punto 1, realizar otra función que reciba de parámetro una lista de números y devuelva sólo aquellos que son primos en otra lista"
   ]
  },
  {
   "cell_type": "code",
   "execution_count": 38,
   "metadata": {},
   "outputs": [],
   "source": [
    "def detectaprimos(lista):\n",
    "    regreso=[]\n",
    "    for item in lista:\n",
    "        if mifuncion(item)==True:\n",
    "            regreso.append(item)\n",
    "    return regreso"
   ]
  },
  {
   "cell_type": "code",
   "execution_count": 39,
   "metadata": {},
   "outputs": [
    {
     "data": {
      "text/plain": [
       "[2, 3, 5, 7, 11]"
      ]
     },
     "execution_count": 39,
     "metadata": {},
     "output_type": "execute_result"
    }
   ],
   "source": [
    "detectaprimos([2,3,4,5,6,7,8,9,10,11])"
   ]
  },
  {
   "attachments": {},
   "cell_type": "markdown",
   "metadata": {},
   "source": [
    "3) Crear una función que al recibir una lista de números, devuelva el que más se repite y cuántas veces lo hace. Si hay más de un \"más repetido\", que devuelva cualquiera"
   ]
  },
  {
   "cell_type": "code",
   "execution_count": 97,
   "metadata": {},
   "outputs": [],
   "source": [
    "def masrepite(lista):\n",
    "    i=0\n",
    "    contados=[]\n",
    "    repeticiones=[]\n",
    "    marca=0\n",
    "    ranking={\"numero\":\"\",\"repeticiones\":\"\"}\n",
    "    for elemento in lista:\n",
    "        #while i<len(lista): \n",
    "        veces=lista.count(elemento)\n",
    "        #print(lista.count(elemento))\n",
    "        if veces>1 and contados.count(elemento)==0:\n",
    "            contados.append(elemento)\n",
    "            repeticiones.append(veces)\n",
    "    for i,item in enumerate(repeticiones):\n",
    "        l=len(repeticiones)\n",
    "        for e in repeticiones:\n",
    "            if item >e:\n",
    "                marca+=1\n",
    "            if marca==l-1:\n",
    "                valor=e\n",
    "                break\n",
    "    print(valor)\n",
    "    indice=repeticiones.index(valor)\n",
    "    numero=contados[indice]\n",
    "    print(numero)\n",
    "    rank=[numero,valor]\n",
    "    return rank#contados,repeticiones\n",
    "            \n",
    "            "
   ]
  },
  {
   "cell_type": "code",
   "execution_count": 98,
   "metadata": {},
   "outputs": [
    {
     "name": "stdout",
     "output_type": "stream",
     "text": [
      "9\n",
      "3\n"
     ]
    },
    {
     "data": {
      "text/plain": [
       "[3, 9]"
      ]
     },
     "execution_count": 98,
     "metadata": {},
     "output_type": "execute_result"
    }
   ],
   "source": [
    "li=[1,2,3,4,5,5,6,7,3]\n",
    "masrepite([1,2,3,4,5,5,6,7,7,7,7,3,3,3,3,3,3,3,3])"
   ]
  },
  {
   "attachments": {},
   "cell_type": "markdown",
   "metadata": {},
   "source": [
    "4) Crear una función que convierta entre grados Celsius, Farenheit y Kelvin<br>\n",
    "Fórmula 1\t: (°C × 9/5) + 32 = °F<br>\n",
    "Fórmula 2\t: °C + 273.15 = °K<br>\n",
    "Debe recibir 3 parámetros: el valor, la medida de orígen y la medida de destino\n"
   ]
  },
  {
   "cell_type": "code",
   "execution_count": 107,
   "metadata": {},
   "outputs": [],
   "source": [
    "def convertidorTemperatura(grados,origen,destino):\n",
    "    resultado=grados\n",
    "    if origen.upper()==\"CELSIUS\" and destino.upper()==\"FARENHEIT\":\n",
    "        resultado=32+(grados*(9/5))\n",
    "    elif origen.upper()==\"CELSIUS\" and destino.upper()==\"KELVIN\":\n",
    "        resultado=273.15+grados\n",
    "    elif origen.upper()==\"FARENHEIT\" and destino.upper()==\"CELSIUS\":\n",
    "        resultadoc=(grados-32)*(5/9)\n",
    "    elif origen.upper()==\"FARENHEIT\" and destino.upper()==\"KELVIN\":\n",
    "        resultado=((grados-32)*5/9)+273.15\n",
    "    elif origen.upper()==\"KELVIN\" and destino.upper()==\"CELSIUS\":\n",
    "        resultado=grados-273.15\n",
    "    elif origen.upper()==\"KELVIN\" and destino.upper()==\"FARENHEIT\":\n",
    "        resultado=((grados-273.15)*(9/5))+32\n",
    "    elif origen.upper()==destino.upper():\n",
    "        resultado=grados\n",
    "    else:\n",
    "        print(\"opción no reconocida\")\n",
    "    return resultado    "
   ]
  },
  {
   "cell_type": "code",
   "execution_count": 108,
   "metadata": {},
   "outputs": [
    {
     "name": "stdout",
     "output_type": "stream",
     "text": [
      "1 grado Celsius a Celsius: 1\n",
      "1 grado Celsius a Kelvin: 274.15\n",
      "1 grado Celsius a Farenheit: 33.8\n",
      "1 grado Kelvin a Celsius: -272.15\n",
      "1 grado Kelvin a Kelvin: 1\n",
      "1 grado Kelvin a Farenheit: -457.86999999999995\n",
      "1 grado Farenheit a Celsius: 1\n",
      "1 grado Farenheit a Kelvin: 255.92777777777775\n",
      "1 grado Farenheit a Farenheit: 1\n"
     ]
    }
   ],
   "source": [
    "print('1 grado Celsius a Celsius:', convertidorTemperatura(1, 'celsius', 'celsius'))\n",
    "print('1 grado Celsius a Kelvin:', convertidorTemperatura(1, 'celsius', 'kelvin'))\n",
    "print('1 grado Celsius a Farenheit:', convertidorTemperatura(1, 'celsius', 'farenheit'))\n",
    "print('1 grado Kelvin a Celsius:', convertidorTemperatura(1, 'kelvin', 'celsius'))\n",
    "print('1 grado Kelvin a Kelvin:', convertidorTemperatura(1, 'kelvin', 'kelvin'))\n",
    "print('1 grado Kelvin a Farenheit:', convertidorTemperatura(1, 'kelvin', 'farenheit'))\n",
    "print('1 grado Farenheit a Celsius:', convertidorTemperatura(1, 'farenheit', 'celsius'))\n",
    "print('1 grado Farenheit a Kelvin:', convertidorTemperatura(1, 'farenheit', 'kelvin'))\n",
    "print('1 grado Farenheit a Farenheit:', convertidorTemperatura(1, 'farenheit', 'farenheit'))"
   ]
  },
  {
   "attachments": {},
   "cell_type": "markdown",
   "metadata": {},
   "source": [
    "5) Iterando una lista con los tres valores posibles de temperatura que recibe la función del punto 5, hacer un print para cada combinación de los mismos:"
   ]
  },
  {
   "cell_type": "code",
   "execution_count": 111,
   "metadata": {},
   "outputs": [
    {
     "name": "stdout",
     "output_type": "stream",
     "text": [
      "combinación celsius-celsius 1\n",
      "combinación celsius-Kelvin 274.15\n",
      "combinación celsius-farenheit 33.8\n",
      "combinación Kelvin-celsius -272.15\n",
      "combinación Kelvin-Kelvin 1\n",
      "combinación Kelvin-farenheit -457.86999999999995\n",
      "combinación farenheit-celsius 1\n",
      "combinación farenheit-Kelvin 255.92777777777775\n",
      "combinación farenheit-farenheit 1\n"
     ]
    }
   ],
   "source": [
    "list=[\"celsius\",\"Kelvin\",\"farenheit\"]\n",
    "\n",
    "for i in list:\n",
    "    for j in list:\n",
    "        print(f\"combinación {i}-{j}\",convertidorTemperatura(1,i,j))"
   ]
  },
  {
   "attachments": {},
   "cell_type": "markdown",
   "metadata": {},
   "source": [
    "6) Armar una función que devuelva el factorial de un número. Tener en cuenta que el usuario puede equivocarse y enviar de parámetro un número no entero o negativo"
   ]
  },
  {
   "cell_type": "code",
   "execution_count": 132,
   "metadata": {},
   "outputs": [],
   "source": [
    "def factorial(numero):\n",
    "    if numero>0 and type(numero)==int:\n",
    "        if numero<=1:\n",
    "            return 1\n",
    "        numero=numero*factorial(numero-1)\n",
    "    else:\n",
    "        print(\"Solo se aceptan números enteros positivos\")\n",
    "        return\n",
    "    return numero"
   ]
  },
  {
   "cell_type": "code",
   "execution_count": 133,
   "metadata": {},
   "outputs": [
    {
     "name": "stdout",
     "output_type": "stream",
     "text": [
      "Solo se aceptan números enteros positivos\n"
     ]
    }
   ],
   "source": [
    "factorial(5.5)"
   ]
  }
 ],
 "metadata": {
  "interpreter": {
   "hash": "c85384e4cb51c8b72350f3a8712cc8351fdc3955e32a27f9b60c6242ab125f01"
  },
  "kernelspec": {
   "display_name": "Python 3 (ipykernel)",
   "language": "python",
   "name": "python3"
  },
  "language_info": {
   "codemirror_mode": {
    "name": "ipython",
    "version": 3
   },
   "file_extension": ".py",
   "mimetype": "text/x-python",
   "name": "python",
   "nbconvert_exporter": "python",
   "pygments_lexer": "ipython3",
   "version": "3.10.4"
  }
 },
 "nbformat": 4,
 "nbformat_minor": 4
}
