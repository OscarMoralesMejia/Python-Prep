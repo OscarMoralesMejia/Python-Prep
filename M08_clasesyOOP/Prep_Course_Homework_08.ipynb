{
 "cells": [
  {
   "attachments": {},
   "cell_type": "markdown",
   "metadata": {},
   "source": [
    "## Clases y Programación Orientada a Objetos"
   ]
  },
  {
   "attachments": {},
   "cell_type": "markdown",
   "metadata": {},
   "source": [
    "1) Crear la clase vehículo que contenga los atributos:<br>\n",
    "Color<br>\n",
    "Si es moto, auto, camioneta ó camión<br>\n",
    "Cilindrada del motor"
   ]
  },
  {
   "cell_type": "code",
   "execution_count": null,
   "metadata": {},
   "outputs": [],
   "source": [
    "class Vehiculo:\n",
    "    def __init__(self,color,tipo,cilindrada):\n",
    "        self.color=color\n",
    "        self.tipo=tipo\n",
    "        self.cilindrada=cilindrada"
   ]
  },
  {
   "attachments": {},
   "cell_type": "markdown",
   "metadata": {},
   "source": [
    "2) A la clase Vehiculo creada en el punto 1, agregar los siguientes métodos:<br>\n",
    "Acelerar<br>\n",
    "Frenar<br>\n",
    "Doblar<br>"
   ]
  },
  {
   "cell_type": "code",
   "execution_count": 1,
   "metadata": {},
   "outputs": [],
   "source": [
    "class Vehiculo:\n",
    "    def __init__(self,color,tipo,cilindrada):\n",
    "        self.color=color\n",
    "        self.tipo=tipo\n",
    "        self.cilindrada=cilindrada\n",
    "        self.velocidad=0\n",
    "        self.girar=0\n",
    "    def Acelerar(self,vel):\n",
    "        self.velocidad+=vel\n",
    "    def Frenar(self,vel):\n",
    "        self.velocidad-=vel\n",
    "    def Doblar(self,grados):\n",
    "        self.girar=grados\n",
    "    \n"
   ]
  },
  {
   "attachments": {},
   "cell_type": "markdown",
   "metadata": {},
   "source": [
    "3) Instanciar 3 objetos de la clase vehículo y ejecutar sus métodos, probar luego el resultado"
   ]
  },
  {
   "cell_type": "code",
   "execution_count": 4,
   "metadata": {},
   "outputs": [],
   "source": [
    "vehiculo_1=Vehiculo(\"rojo\",\"auto\",2.5)\n",
    "vehiculo_2=Vehiculo(\"azul\",\"moto\",250)\n",
    "vehiculo_3=Vehiculo(\"Blanco\",\"Camioneta\",2.0)\n"
   ]
  },
  {
   "cell_type": "code",
   "execution_count": 5,
   "metadata": {},
   "outputs": [],
   "source": [
    "vehiculo_1.Acelerar(25)\n",
    "vehiculo_1.Doblar(30)\n",
    "vehiculo_1.Frenar(10)\n",
    "vehiculo_2.Acelerar(25)\n",
    "vehiculo_2.Doblar(30)\n",
    "vehiculo_2.Frenar(10)\n",
    "vehiculo_3.Acelerar(25)\n",
    "vehiculo_3.Doblar(30)\n",
    "vehiculo_3.Frenar(10)"
   ]
  },
  {
   "attachments": {},
   "cell_type": "markdown",
   "metadata": {},
   "source": [
    "4) Agregar a la clase Vehiculo, un método que muestre su estado, es decir, a que velocidad se encuentra y su dirección. Y otro método que muestre color, tipo y cilindrada"
   ]
  },
  {
   "cell_type": "code",
   "execution_count": 12,
   "metadata": {},
   "outputs": [],
   "source": [
    "class Vehiculo:\n",
    "    def __init__(self,color,tipo,cilindrada):\n",
    "        self.color=color\n",
    "        self.tipo=tipo\n",
    "        self.cilindrada=cilindrada\n",
    "        self.velocidad=0\n",
    "        self.girar=0\n",
    "    def Acelerar(self,vel):\n",
    "        self.velocidad+=vel\n",
    "    def Frenar(self,vel):\n",
    "        self.velocidad-=vel\n",
    "    def Doblar(self,grados):\n",
    "        self.girar=grados\n",
    "    def Estado(self):\n",
    "        print(f\"La velocidad actual es:{self.velocidad}\")\n",
    "        print(f\"La dirección actual es:{self.girar}\")\n",
    "    def Caractaristicas(self):\n",
    "        print(\"El color es:\",self.color)\n",
    "        print(f\"El tipo es:{self.tipo}\")\n",
    "        print(f\"La cilindrada es:{self.cilindrada}\")\n",
    "        "
   ]
  },
  {
   "cell_type": "code",
   "execution_count": 14,
   "metadata": {},
   "outputs": [
    {
     "name": "stdout",
     "output_type": "stream",
     "text": [
      "El color es: rojo\n",
      "El tipo es:auto\n",
      "La cilindrada es:2.5\n",
      "La velocidad actual es:0\n",
      "La dirección actual es:0\n"
     ]
    }
   ],
   "source": [
    "vehiculo_4=Vehiculo(\"rojo\",\"auto\",2.5)\n",
    "vehiculo_4.Caractaristicas()\n",
    "vehiculo_4.Estado()"
   ]
  },
  {
   "attachments": {},
   "cell_type": "markdown",
   "metadata": {},
   "source": [
    "5) Crear una clase que permita utilizar las funciones creadas en la práctica del módulo 7<br>\n",
    "Verificar Primo<br>\n",
    "Valor modal<br>\n",
    "Conversión grados<br>\n",
    "Factorial<br>"
   ]
  },
  {
   "cell_type": "code",
   "execution_count": 59,
   "metadata": {},
   "outputs": [],
   "source": [
    "class Funciones:\n",
    "    def __init__(self):\n",
    "        pass\n",
    "        \n",
    "    def esprimo(self,num):\n",
    "        i=2\n",
    "        flag=True\n",
    "        while i< num:\n",
    "            if num%i==0:  \n",
    "                flag=False\n",
    "                break\n",
    "            i+=1\n",
    "        return flag\n",
    "    \n",
    "    def detectaprimos(self,lista):\n",
    "        '''\n",
    "        Funcion para detectar los números primos\n",
    "        '''\n",
    "        regreso=[]\n",
    "        for item in lista:\n",
    "            if esprimo(item)==True:\n",
    "                regreso.append(item)\n",
    "        return regreso\n",
    "\n",
    "    def masrepite(lista):\n",
    "        i=0\n",
    "        contados=[]\n",
    "        repeticiones=[]\n",
    "        marca=0\n",
    "        ranking={\"numero\":\"\",\"repeticiones\":\"\"}\n",
    "        for elemento in lista:\n",
    "            #while i<len(lista): \n",
    "            veces=lista.count(elemento)\n",
    "            #print(lista.count(elemento))\n",
    "            if veces>1 and contados.count(elemento)==0:\n",
    "                contados.append(elemento)\n",
    "                repeticiones.append(veces)\n",
    "        for i,item in enumerate(repeticiones):\n",
    "            l=len(repeticiones)\n",
    "            for e in repeticiones:\n",
    "                if item >e:\n",
    "                    marca+=1\n",
    "                if marca==l-1:\n",
    "                    valor=e\n",
    "                    break\n",
    "        print(valor)\n",
    "        indice=repeticiones.index(valor)\n",
    "        numero=contados[indice]\n",
    "        print(numero)\n",
    "        rank=[numero,valor]\n",
    "        return rank#contados,repeticiones\n",
    "    \n",
    "    def convertidorTemperatura(grados,origen,destino):\n",
    "        resultado=grados\n",
    "        if origen.upper()==\"CELSIUS\" and destino.upper()==\"FARENHEIT\":\n",
    "            resultado=32+(grados*(9/5))\n",
    "        elif origen.upper()==\"CELSIUS\" and destino.upper()==\"KELVIN\":\n",
    "            resultado=273.15+grados\n",
    "        elif origen.upper()==\"FARENHEIT\" and destino.upper()==\"CELSIUS\":\n",
    "            resultadoc=(grados-32)*(5/9)\n",
    "        elif origen.upper()==\"FARENHEIT\" and destino.upper()==\"KELVIN\":\n",
    "            resultado=((grados-32)*5/9)+273.15\n",
    "        elif origen.upper()==\"KELVIN\" and destino.upper()==\"CELSIUS\":\n",
    "            resultado=grados-273.15\n",
    "        elif origen.upper()==\"KELVIN\" and destino.upper()==\"FARENHEIT\":\n",
    "            resultado=((grados-273.15)*(9/5))+32\n",
    "        elif origen.upper()==destino.upper():\n",
    "            resultado=grados\n",
    "        else:\n",
    "            print(\"opción no reconocida\")\n",
    "        return resultado\n",
    "    \n",
    "    def factorial(numero):\n",
    "        if numero>0 and type(numero)==int:\n",
    "            if numero<=1:\n",
    "                return 1\n",
    "            numero=numero*factorial(numero-1)\n",
    "        else:\n",
    "            print(\"Solo se aceptan números enteros positivos\")\n",
    "            return\n",
    "        return numero    \n",
    "            "
   ]
  },
  {
   "cell_type": "code",
   "execution_count": 61,
   "metadata": {},
   "outputs": [
    {
     "data": {
      "text/plain": [
       "True"
      ]
     },
     "execution_count": 61,
     "metadata": {},
     "output_type": "execute_result"
    }
   ],
   "source": [
    "calculos=Funciones()\n",
    "calculos.esprimo(17)\n",
    "#calculos.detectaprimos([2,3,4,5,6,7,8])\n"
   ]
  },
  {
   "attachments": {},
   "cell_type": "markdown",
   "metadata": {},
   "source": [
    "6) Probar las funciones incorporadas en la clase del punto 5"
   ]
  },
  {
   "cell_type": "code",
   "execution_count": 62,
   "metadata": {},
   "outputs": [
    {
     "data": {
      "text/plain": [
       "True"
      ]
     },
     "execution_count": 62,
     "metadata": {},
     "output_type": "execute_result"
    }
   ],
   "source": [
    "calculos=Funciones()\n",
    "calculos.esprimo(17)"
   ]
  },
  {
   "attachments": {},
   "cell_type": "markdown",
   "metadata": {},
   "source": [
    "7) Es necesario que la clase creada en el punto 5 contenga una lista, sobre la cual se apliquen las funciones incorporadas"
   ]
  },
  {
   "cell_type": "code",
   "execution_count": 69,
   "metadata": {},
   "outputs": [],
   "source": [
    "class Funciones:\n",
    "    def __init__(self,lista_num):\n",
    "        self.lista=lista_num\n",
    "        \n",
    "        \n",
    "    def __esprimo(self,num):\n",
    "        i=2\n",
    "        flag=True\n",
    "        while i< num:\n",
    "            if num%i==0:  \n",
    "                flag=False\n",
    "                break\n",
    "            i+=1\n",
    "        return flag\n",
    "    \n",
    "    def detectaprimos(self):\n",
    "        '''\n",
    "        Funcion para detectar los números primos\n",
    "        '''\n",
    "        regreso=[]\n",
    "        for item in self.lista:\n",
    "            if self.__esprimo(item)==True:\n",
    "                regreso.append(item)\n",
    "        return regreso\n",
    "\n",
    "    def masrepite(self):\n",
    "        i=0\n",
    "        contados=[]\n",
    "        repeticiones=[]\n",
    "        marca=0\n",
    "        ranking={\"numero\":\"\",\"repeticiones\":\"\"}\n",
    "        for elemento in self.lista:\n",
    "            #while i<len(lista): \n",
    "            veces=self.lista.count(elemento)\n",
    "            #print(lista.count(elemento))\n",
    "            if veces>1 and contados.count(elemento)==0:\n",
    "                contados.append(elemento)\n",
    "                repeticiones.append(veces)\n",
    "        for i,item in enumerate(repeticiones):\n",
    "            l=len(repeticiones)\n",
    "            for e in repeticiones:\n",
    "                if item >e:\n",
    "                    marca+=1\n",
    "                if marca==l-1:\n",
    "                    valor=e\n",
    "                    break\n",
    "        print(valor)\n",
    "        indice=repeticiones.index(valor)\n",
    "        numero=contados[indice]\n",
    "        print(numero)\n",
    "        rank=[numero,valor]\n",
    "        return rank#contados,repeticiones\n",
    "    \n",
    "    def conversion_grados(self,origen,destino):\n",
    "        for i in self.lista:\n",
    "            print(i,\" grados seran convertidos de: \",origen,\"a \",self.__convertidorTemperatura(i,origen,destino),destino)\n",
    "    def __convertidorTemperatura(self,grados,origen,destino):\n",
    "        resultado=grados\n",
    "        if origen.upper()==\"CELSIUS\" and destino.upper()==\"FARENHEIT\":\n",
    "            resultado=32+(grados*(9/5))\n",
    "        elif origen.upper()==\"CELSIUS\" and destino.upper()==\"KELVIN\":\n",
    "            resultado=273.15+grados\n",
    "        elif origen.upper()==\"FARENHEIT\" and destino.upper()==\"CELSIUS\":\n",
    "            resultadoc=(grados-32)*(5/9)\n",
    "        elif origen.upper()==\"FARENHEIT\" and destino.upper()==\"KELVIN\":\n",
    "            resultado=((grados-32)*5/9)+273.15\n",
    "        elif origen.upper()==\"KELVIN\" and destino.upper()==\"CELSIUS\":\n",
    "            resultado=grados-273.15\n",
    "        elif origen.upper()==\"KELVIN\" and destino.upper()==\"FARENHEIT\":\n",
    "            resultado=((grados-273.15)*(9/5))+32\n",
    "        elif origen.upper()==destino.upper():\n",
    "            resultado=grados\n",
    "        else:\n",
    "            print(\"opción no reconocida\")\n",
    "        return resultado\n",
    "    def factorial(self):\n",
    "        for i in self.lista:\n",
    "            print(\"El factorial de \",i,\"es\",self.__factorial(i))\n",
    "    def __factorial(self,numero):\n",
    "        if numero>0 and type(numero)==int:\n",
    "            if numero<=1:\n",
    "                return 1\n",
    "            numero=numero*self.__factorial(numero-1)\n",
    "        else:\n",
    "            print(\"Solo se aceptan números enteros positivos\")\n",
    "            return\n",
    "        return numero"
   ]
  },
  {
   "cell_type": "code",
   "execution_count": 70,
   "metadata": {},
   "outputs": [
    {
     "name": "stdout",
     "output_type": "stream",
     "text": [
      "1  grados seran convertidos de:  celsius a  274.15 kelvin\n",
      "2  grados seran convertidos de:  celsius a  275.15 kelvin\n",
      "3  grados seran convertidos de:  celsius a  276.15 kelvin\n",
      "4  grados seran convertidos de:  celsius a  277.15 kelvin\n",
      "5  grados seran convertidos de:  celsius a  278.15 kelvin\n",
      "6  grados seran convertidos de:  celsius a  279.15 kelvin\n",
      "7  grados seran convertidos de:  celsius a  280.15 kelvin\n",
      "9  grados seran convertidos de:  celsius a  282.15 kelvin\n",
      "10  grados seran convertidos de:  celsius a  283.15 kelvin\n",
      "11  grados seran convertidos de:  celsius a  284.15 kelvin\n",
      "El factorial de  1 es 1\n",
      "El factorial de  2 es 2\n",
      "El factorial de  3 es 6\n",
      "El factorial de  4 es 24\n",
      "El factorial de  5 es 120\n",
      "El factorial de  6 es 720\n",
      "El factorial de  7 es 5040\n",
      "El factorial de  9 es 362880\n",
      "El factorial de  10 es 3628800\n",
      "El factorial de  11 es 39916800\n"
     ]
    }
   ],
   "source": [
    "f=Funciones([1,2,3,4,5,6,7,9,10,11])\n",
    "f.detectaprimos()\n",
    "f.conversion_grados(\"celsius\",\"kelvin\")\n",
    "f.factorial()"
   ]
  },
  {
   "attachments": {},
   "cell_type": "markdown",
   "metadata": {},
   "source": [
    "8) Crear un archivo .py aparte y ubicar allí la clase generada en el punto anterior. Luego realizar la importación del módulo y probar alguna de sus funciones"
   ]
  },
  {
   "cell_type": "code",
   "execution_count": 76,
   "metadata": {},
   "outputs": [
    {
     "name": "stdout",
     "output_type": "stream",
     "text": [
      "3  grados seran convertidos de:  kelvin a  -270.15 celsius\n",
      "5  grados seran convertidos de:  kelvin a  -268.15 celsius\n",
      "7  grados seran convertidos de:  kelvin a  -266.15 celsius\n",
      "8  grados seran convertidos de:  kelvin a  -265.15 celsius\n",
      "9  grados seran convertidos de:  kelvin a  -264.15 celsius\n",
      "17  grados seran convertidos de:  kelvin a  -256.15 celsius\n",
      "23  grados seran convertidos de:  kelvin a  -250.14999999999998 celsius\n",
      "El factorial de  3 es 6\n",
      "El factorial de  5 es 120\n",
      "El factorial de  7 es 5040\n",
      "El factorial de  8 es 40320\n",
      "El factorial de  9 es 362880\n",
      "El factorial de  17 es 355687428096000\n",
      "El factorial de  23 es 25852016738884976640000\n"
     ]
    }
   ],
   "source": [
    "import Helper\n",
    "\n",
    "f=Funciones([3,5,7,8,9,17,23])\n",
    "f.detectaprimos()\n",
    "f.conversion_grados(\"kelvin\",\"celsius\")\n",
    "f.factorial()"
   ]
  }
 ],
 "metadata": {
  "interpreter": {
   "hash": "c85384e4cb51c8b72350f3a8712cc8351fdc3955e32a27f9b60c6242ab125f01"
  },
  "kernelspec": {
   "display_name": "Python 3 (ipykernel)",
   "language": "python",
   "name": "python3"
  },
  "language_info": {
   "codemirror_mode": {
    "name": "ipython",
    "version": 3
   },
   "file_extension": ".py",
   "mimetype": "text/x-python",
   "name": "python",
   "nbconvert_exporter": "python",
   "pygments_lexer": "ipython3",
   "version": "3.10.4"
  }
 },
 "nbformat": 4,
 "nbformat_minor": 4
}
